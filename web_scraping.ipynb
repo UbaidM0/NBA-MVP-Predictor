{
 "cells": [
  {
   "cell_type": "code",
   "execution_count": 1,
   "id": "5d13491d-471e-4438-9973-14b4928377cb",
   "metadata": {},
   "outputs": [],
   "source": [
    "years = list(range(2004,2025))"
   ]
  },
  {
   "cell_type": "code",
   "execution_count": 2,
   "id": "e6689a3b-44f8-4244-8d39-dd007da60ff2",
   "metadata": {},
   "outputs": [],
   "source": [
    "url_start = \"https://www.basketball-reference.com/awards/awards_{}.html\""
   ]
  },
  {
   "cell_type": "code",
   "execution_count": 3,
   "id": "1c50620e-156a-4369-869a-30db5c3c8290",
   "metadata": {},
   "outputs": [],
   "source": [
    "import requests\n",
    "\n",
    "for year in years:\n",
    "    url = url_start.format(year)\n",
    "    data = requests.get(url)\n",
    "\n",
    "    with open(\"mvp/{}.html\".format(year), \"w+\") as f:\n",
    "        f.write(data.text)"
   ]
  },
  {
   "cell_type": "code",
   "execution_count": 4,
   "id": "0a919b62-1376-472f-b23a-97e10e0f4bc2",
   "metadata": {},
   "outputs": [],
   "source": [
    "from bs4 import BeautifulSoup"
   ]
  },
  {
   "cell_type": "code",
   "execution_count": 5,
   "id": "fbc42ca3-26d3-4f52-8f47-32ccafc18cf0",
   "metadata": {},
   "outputs": [],
   "source": [
    "with open(\"mvp/2004.html\") as f:\n",
    "    page = f.read()"
   ]
  },
  {
   "cell_type": "code",
   "execution_count": 6,
   "id": "5cd31528-d85b-48d0-8213-152bf9ff10b1",
   "metadata": {},
   "outputs": [],
   "source": [
    "soup = BeautifulSoup(page, \"html.parser\")"
   ]
  },
  {
   "cell_type": "code",
   "execution_count": 7,
   "id": "2ef61c4b-d720-4741-ad9d-b09fd705cbcf",
   "metadata": {},
   "outputs": [],
   "source": [
    "soup.find('tr', class_=\"over_header\").decompose()"
   ]
  },
  {
   "cell_type": "code",
   "execution_count": 8,
   "id": "3cb8898a-d72c-4715-8bf0-38b53cefa62b",
   "metadata": {},
   "outputs": [],
   "source": [
    "mvp_table = soup.find_all(id=\"mvp\")"
   ]
  },
  {
   "cell_type": "code",
   "execution_count": 9,
   "id": "ad3461a2-a58a-4989-9073-c0a4edd6f3ba",
   "metadata": {},
   "outputs": [],
   "source": [
    "import pandas as pd\n",
    "from io import StringIO"
   ]
  },
  {
   "cell_type": "code",
   "execution_count": 10,
   "id": "9dce64eb-c3de-4b98-9911-6e9b782ff943",
   "metadata": {},
   "outputs": [],
   "source": [
    "mvp_2004 = pd.read_html(StringIO(str(mvp_table)))[0]"
   ]
  },
  {
   "cell_type": "code",
   "execution_count": 11,
   "id": "798d365d-cfcd-4096-b141-c0232717cfa6",
   "metadata": {},
   "outputs": [
    {
     "data": {
      "text/html": [
       "<div>\n",
       "<style scoped>\n",
       "    .dataframe tbody tr th:only-of-type {\n",
       "        vertical-align: middle;\n",
       "    }\n",
       "\n",
       "    .dataframe tbody tr th {\n",
       "        vertical-align: top;\n",
       "    }\n",
       "\n",
       "    .dataframe thead th {\n",
       "        text-align: right;\n",
       "    }\n",
       "</style>\n",
       "<table border=\"1\" class=\"dataframe\">\n",
       "  <thead>\n",
       "    <tr style=\"text-align: right;\">\n",
       "      <th></th>\n",
       "      <th>Rank</th>\n",
       "      <th>Player</th>\n",
       "      <th>Age</th>\n",
       "      <th>Tm</th>\n",
       "      <th>First</th>\n",
       "      <th>Pts Won</th>\n",
       "      <th>Pts Max</th>\n",
       "      <th>Share</th>\n",
       "      <th>G</th>\n",
       "      <th>MP</th>\n",
       "      <th>PTS</th>\n",
       "      <th>TRB</th>\n",
       "      <th>AST</th>\n",
       "      <th>STL</th>\n",
       "      <th>BLK</th>\n",
       "      <th>FG%</th>\n",
       "      <th>3P%</th>\n",
       "      <th>FT%</th>\n",
       "      <th>WS</th>\n",
       "      <th>WS/48</th>\n",
       "    </tr>\n",
       "  </thead>\n",
       "  <tbody>\n",
       "    <tr>\n",
       "      <th>0</th>\n",
       "      <td>1</td>\n",
       "      <td>Kevin Garnett</td>\n",
       "      <td>27</td>\n",
       "      <td>MIN</td>\n",
       "      <td>120</td>\n",
       "      <td>1219</td>\n",
       "      <td>1230</td>\n",
       "      <td>0.991</td>\n",
       "      <td>82</td>\n",
       "      <td>39.4</td>\n",
       "      <td>24.2</td>\n",
       "      <td>13.9</td>\n",
       "      <td>5.0</td>\n",
       "      <td>1.5</td>\n",
       "      <td>2.2</td>\n",
       "      <td>0.499</td>\n",
       "      <td>0.256</td>\n",
       "      <td>0.791</td>\n",
       "      <td>18.3</td>\n",
       "      <td>0.272</td>\n",
       "    </tr>\n",
       "  </tbody>\n",
       "</table>\n",
       "</div>"
      ],
      "text/plain": [
       "  Rank         Player  Age   Tm  First  Pts Won  Pts Max  Share   G    MP  \\\n",
       "0    1  Kevin Garnett   27  MIN    120     1219     1230  0.991  82  39.4   \n",
       "\n",
       "    PTS   TRB  AST  STL  BLK    FG%    3P%    FT%    WS  WS/48  \n",
       "0  24.2  13.9  5.0  1.5  2.2  0.499  0.256  0.791  18.3  0.272  "
      ]
     },
     "execution_count": 11,
     "metadata": {},
     "output_type": "execute_result"
    }
   ],
   "source": [
    "mvp_2004.head(1)"
   ]
  },
  {
   "cell_type": "code",
   "execution_count": 12,
   "id": "1a504cd8-6ab3-413b-82e1-79c9ac308cf5",
   "metadata": {},
   "outputs": [],
   "source": [
    "mvp_2004[\"Year\"] = 2004"
   ]
  },
  {
   "cell_type": "code",
   "execution_count": 13,
   "id": "fee88278-7ab2-4140-8133-a9afc370457b",
   "metadata": {},
   "outputs": [],
   "source": [
    "dfs = []\n",
    "for year in years:\n",
    "    with open(\"mvp/{}.html\".format(year)) as f:\n",
    "        page = f.read()\n",
    "    soup = BeautifulSoup(page, \"html.parser\")\n",
    "    soup.find('tr', class_=\"over_header\").decompose()\n",
    "    mvp_table = soup.find_all(id=\"mvp\")\n",
    "    mvp = pd.read_html(StringIO(str(mvp_table)))[0]\n",
    "    mvp[\"Year\"] = year\n",
    "    \n",
    "    dfs.append(mvp)"
   ]
  },
  {
   "cell_type": "code",
   "execution_count": 14,
   "id": "635f6ada-a360-4aba-85fe-0daab4f6b4ac",
   "metadata": {},
   "outputs": [],
   "source": [
    "mvps = pd.concat(dfs)"
   ]
  },
  {
   "cell_type": "code",
   "execution_count": 15,
   "id": "d142cd1f-1ff2-4378-96d7-7a1a8b1966f7",
   "metadata": {},
   "outputs": [
    {
     "data": {
      "text/html": [
       "<div>\n",
       "<style scoped>\n",
       "    .dataframe tbody tr th:only-of-type {\n",
       "        vertical-align: middle;\n",
       "    }\n",
       "\n",
       "    .dataframe tbody tr th {\n",
       "        vertical-align: top;\n",
       "    }\n",
       "\n",
       "    .dataframe thead th {\n",
       "        text-align: right;\n",
       "    }\n",
       "</style>\n",
       "<table border=\"1\" class=\"dataframe\">\n",
       "  <thead>\n",
       "    <tr style=\"text-align: right;\">\n",
       "      <th></th>\n",
       "      <th>Rank</th>\n",
       "      <th>Player</th>\n",
       "      <th>Age</th>\n",
       "      <th>Tm</th>\n",
       "      <th>First</th>\n",
       "      <th>Pts Won</th>\n",
       "      <th>Pts Max</th>\n",
       "      <th>Share</th>\n",
       "      <th>G</th>\n",
       "      <th>MP</th>\n",
       "      <th>...</th>\n",
       "      <th>TRB</th>\n",
       "      <th>AST</th>\n",
       "      <th>STL</th>\n",
       "      <th>BLK</th>\n",
       "      <th>FG%</th>\n",
       "      <th>3P%</th>\n",
       "      <th>FT%</th>\n",
       "      <th>WS</th>\n",
       "      <th>WS/48</th>\n",
       "      <th>Year</th>\n",
       "    </tr>\n",
       "  </thead>\n",
       "  <tbody>\n",
       "    <tr>\n",
       "      <th>4</th>\n",
       "      <td>5</td>\n",
       "      <td>Jalen Brunson</td>\n",
       "      <td>27</td>\n",
       "      <td>NYK</td>\n",
       "      <td>0</td>\n",
       "      <td>142</td>\n",
       "      <td>990</td>\n",
       "      <td>0.143</td>\n",
       "      <td>77</td>\n",
       "      <td>35.4</td>\n",
       "      <td>...</td>\n",
       "      <td>3.6</td>\n",
       "      <td>6.7</td>\n",
       "      <td>0.9</td>\n",
       "      <td>0.2</td>\n",
       "      <td>0.479</td>\n",
       "      <td>0.401</td>\n",
       "      <td>0.847</td>\n",
       "      <td>11.2</td>\n",
       "      <td>0.198</td>\n",
       "      <td>2024</td>\n",
       "    </tr>\n",
       "    <tr>\n",
       "      <th>5</th>\n",
       "      <td>6</td>\n",
       "      <td>Jayson Tatum</td>\n",
       "      <td>25</td>\n",
       "      <td>BOS</td>\n",
       "      <td>0</td>\n",
       "      <td>86</td>\n",
       "      <td>990</td>\n",
       "      <td>0.087</td>\n",
       "      <td>74</td>\n",
       "      <td>35.7</td>\n",
       "      <td>...</td>\n",
       "      <td>8.1</td>\n",
       "      <td>4.9</td>\n",
       "      <td>1.0</td>\n",
       "      <td>0.6</td>\n",
       "      <td>0.471</td>\n",
       "      <td>0.376</td>\n",
       "      <td>0.833</td>\n",
       "      <td>10.4</td>\n",
       "      <td>0.189</td>\n",
       "      <td>2024</td>\n",
       "    </tr>\n",
       "    <tr>\n",
       "      <th>6</th>\n",
       "      <td>7</td>\n",
       "      <td>Anthony Edwards</td>\n",
       "      <td>22</td>\n",
       "      <td>MIN</td>\n",
       "      <td>0</td>\n",
       "      <td>18</td>\n",
       "      <td>990</td>\n",
       "      <td>0.018</td>\n",
       "      <td>79</td>\n",
       "      <td>35.1</td>\n",
       "      <td>...</td>\n",
       "      <td>5.4</td>\n",
       "      <td>5.1</td>\n",
       "      <td>1.3</td>\n",
       "      <td>0.5</td>\n",
       "      <td>0.461</td>\n",
       "      <td>0.357</td>\n",
       "      <td>0.836</td>\n",
       "      <td>7.5</td>\n",
       "      <td>0.130</td>\n",
       "      <td>2024</td>\n",
       "    </tr>\n",
       "    <tr>\n",
       "      <th>7</th>\n",
       "      <td>8</td>\n",
       "      <td>Domantas Sabonis</td>\n",
       "      <td>27</td>\n",
       "      <td>SAC</td>\n",
       "      <td>0</td>\n",
       "      <td>3</td>\n",
       "      <td>990</td>\n",
       "      <td>0.003</td>\n",
       "      <td>82</td>\n",
       "      <td>35.7</td>\n",
       "      <td>...</td>\n",
       "      <td>13.7</td>\n",
       "      <td>8.2</td>\n",
       "      <td>0.9</td>\n",
       "      <td>0.6</td>\n",
       "      <td>0.594</td>\n",
       "      <td>0.379</td>\n",
       "      <td>0.704</td>\n",
       "      <td>12.6</td>\n",
       "      <td>0.206</td>\n",
       "      <td>2024</td>\n",
       "    </tr>\n",
       "    <tr>\n",
       "      <th>8</th>\n",
       "      <td>9</td>\n",
       "      <td>Kevin Durant</td>\n",
       "      <td>35</td>\n",
       "      <td>PHO</td>\n",
       "      <td>0</td>\n",
       "      <td>1</td>\n",
       "      <td>990</td>\n",
       "      <td>0.001</td>\n",
       "      <td>75</td>\n",
       "      <td>37.2</td>\n",
       "      <td>...</td>\n",
       "      <td>6.6</td>\n",
       "      <td>5.0</td>\n",
       "      <td>0.9</td>\n",
       "      <td>1.2</td>\n",
       "      <td>0.523</td>\n",
       "      <td>0.413</td>\n",
       "      <td>0.856</td>\n",
       "      <td>8.3</td>\n",
       "      <td>0.142</td>\n",
       "      <td>2024</td>\n",
       "    </tr>\n",
       "  </tbody>\n",
       "</table>\n",
       "<p>5 rows × 21 columns</p>\n",
       "</div>"
      ],
      "text/plain": [
       "  Rank            Player  Age   Tm  First  Pts Won  Pts Max  Share   G    MP  \\\n",
       "4    5     Jalen Brunson   27  NYK      0      142      990  0.143  77  35.4   \n",
       "5    6      Jayson Tatum   25  BOS      0       86      990  0.087  74  35.7   \n",
       "6    7   Anthony Edwards   22  MIN      0       18      990  0.018  79  35.1   \n",
       "7    8  Domantas Sabonis   27  SAC      0        3      990  0.003  82  35.7   \n",
       "8    9      Kevin Durant   35  PHO      0        1      990  0.001  75  37.2   \n",
       "\n",
       "   ...   TRB  AST  STL  BLK    FG%    3P%    FT%    WS  WS/48  Year  \n",
       "4  ...   3.6  6.7  0.9  0.2  0.479  0.401  0.847  11.2  0.198  2024  \n",
       "5  ...   8.1  4.9  1.0  0.6  0.471  0.376  0.833  10.4  0.189  2024  \n",
       "6  ...   5.4  5.1  1.3  0.5  0.461  0.357  0.836   7.5  0.130  2024  \n",
       "7  ...  13.7  8.2  0.9  0.6  0.594  0.379  0.704  12.6  0.206  2024  \n",
       "8  ...   6.6  5.0  0.9  1.2  0.523  0.413  0.856   8.3  0.142  2024  \n",
       "\n",
       "[5 rows x 21 columns]"
      ]
     },
     "execution_count": 15,
     "metadata": {},
     "output_type": "execute_result"
    }
   ],
   "source": [
    "mvps.tail(5)"
   ]
  },
  {
   "cell_type": "code",
   "execution_count": 16,
   "id": "8d54a4ba-8c02-42f5-8bb3-dac0ae1e34fc",
   "metadata": {},
   "outputs": [],
   "source": [
    "mvps.to_csv(\"mvps.csv\")"
   ]
  },
  {
   "cell_type": "code",
   "execution_count": 17,
   "id": "1f26f637-eb3a-44c2-bf7e-c2da9a85b365",
   "metadata": {},
   "outputs": [],
   "source": [
    "player_stats_url = \"https://www.basketball-reference.com/leagues/NBA_{}_per_game.html\"\n",
    "\n",
    "url = player_stats_url.format(2004)\n",
    "data = requests.get(url)\n",
    "with open(\"player/2004.html\", \"w+\") as f:\n",
    "    f.write(data.text)"
   ]
  },
  {
   "cell_type": "code",
   "execution_count": 18,
   "id": "50e77bb5-74d6-48df-b284-c3ba0d777553",
   "metadata": {},
   "outputs": [],
   "source": [
    "from selenium import webdriver\n",
    "from selenium.webdriver.chrome.options import Options\n",
    "from selenium.webdriver.chrome.service import Service\n",
    "from webdriver_manager.chrome import ChromeDriverManager\n",
    "import time"
   ]
  },
  {
   "cell_type": "code",
   "execution_count": 19,
   "id": "897a7457-42d6-409a-926f-47fc43566d6a",
   "metadata": {
    "scrolled": true
   },
   "outputs": [],
   "source": [
    "options = Options()\n",
    "options.add_argument(\"start-maximized\")\n",
    "driver = webdriver.Chrome(service=Service(ChromeDriverManager().install()), options=options)"
   ]
  },
  {
   "cell_type": "code",
   "execution_count": null,
   "id": "9a328856-8365-4ad9-bc2f-5201356149cd",
   "metadata": {
    "scrolled": true
   },
   "outputs": [],
   "source": [
    "for year in years:\n",
    "    url = player_stats_url.format(year)\n",
    "    \n",
    "    driver.get(url)\n",
    "    driver.execute_script(\"window.scrollTo(1,10000)\")\n",
    "    time.sleep(2)\n",
    "    \n",
    "    html = driver.page_source\n",
    "    with open(\"player/{}.html\".format(year), \"w+\") as f:\n",
    "        f.write(html)"
   ]
  },
  {
   "cell_type": "code",
   "execution_count": 21,
   "id": "31a07af6-9ae7-4c81-bee8-d64cc3577b09",
   "metadata": {},
   "outputs": [],
   "source": [
    "dfs = []\n",
    "for year in years:\n",
    "    with open(\"player/{}.html\".format(year)) as f:\n",
    "        page = f.read()\n",
    "    \n",
    "    soup = BeautifulSoup(page, \"html.parser\")\n",
    "    soup.find('tr', class_=\"thead\").decompose()\n",
    "    player_table = soup.find_all(id=\"per_game_stats\")\n",
    "    player = pd.read_html(StringIO(str(player_table)))[0]\n",
    "    player[\"Year\"] = year\n",
    "    dfs.append(player)"
   ]
  },
  {
   "cell_type": "code",
   "execution_count": 22,
   "id": "2d4b7765-9c8c-4407-9b8b-fa99623a49ac",
   "metadata": {},
   "outputs": [],
   "source": [
    "players = pd.concat(dfs)"
   ]
  },
  {
   "cell_type": "code",
   "execution_count": 23,
   "id": "3e1ebb00-407e-4c22-80f9-3d33accb9344",
   "metadata": {},
   "outputs": [],
   "source": [
    "players.to_csv(\"players.csv\")"
   ]
  },
  {
   "cell_type": "code",
   "execution_count": 24,
   "id": "3fd69382-a126-4a7f-b862-0320a0168f90",
   "metadata": {},
   "outputs": [],
   "source": [
    "team_stats_url = \"https://www.basketball-reference.com/leagues/NBA_{}_standings.html\""
   ]
  },
  {
   "cell_type": "code",
   "execution_count": 25,
   "id": "fea170f3-267e-4a1d-b484-7e01b63facc0",
   "metadata": {},
   "outputs": [],
   "source": [
    "for year in years: \n",
    "    url = team_stats_url.format(year)\n",
    "    \n",
    "    data = requests.get(url)\n",
    "    \n",
    "    with open(\"team/{}.html\".format(year), \"w+\") as f:\n",
    "        f.write(data.text)"
   ]
  },
  {
   "cell_type": "code",
   "execution_count": 26,
   "id": "afa8498d-0936-41d4-a702-96ba9ac6cf43",
   "metadata": {},
   "outputs": [],
   "source": [
    "dfs = []\n",
    "for year in years:\n",
    "    with open(\"team/{}.html\".format(year)) as f:\n",
    "        page = f.read()\n",
    "    \n",
    "    soup = BeautifulSoup(page, \"html.parser\")\n",
    "    soup.find('tr', class_=\"thead\").decompose()\n",
    "    team_table = soup.find_all(id=\"divs_standings_E\")\n",
    "    team = pd.read_html(StringIO(str(team_table)))[0]\n",
    "    team[\"Year\"] = year\n",
    "    team[\"Team\"] = team[\"Eastern Conference\"]\n",
    "    del team[\"Eastern Conference\"]\n",
    "    dfs.append(team)\n",
    "\n",
    "    soup = BeautifulSoup(page, \"html.parser\")\n",
    "    soup.find('tr', class_=\"thead\").decompose()\n",
    "    team_table = soup.find_all(id=\"divs_standings_W\")\n",
    "    team = pd.read_html(StringIO(str(team_table)))[0]\n",
    "    team[\"Year\"] = year\n",
    "    team[\"Team\"] = team[\"Western Conference\"]\n",
    "    del team[\"Western Conference\"]\n",
    "    dfs.append(team)"
   ]
  },
  {
   "cell_type": "code",
   "execution_count": 27,
   "id": "c2077a42-4eff-4b6a-8cc7-a02beeca8d26",
   "metadata": {},
   "outputs": [],
   "source": [
    "teams = pd.concat(dfs)"
   ]
  },
  {
   "cell_type": "code",
   "execution_count": 28,
   "id": "e5113dbd-123d-4059-bb44-ebb1ce7e5294",
   "metadata": {},
   "outputs": [],
   "source": [
    "teams.to_csv(\"teams.csv\")"
   ]
  },
  {
   "cell_type": "code",
   "execution_count": null,
   "id": "76c62dce-2049-4def-a8c9-69dd7e7b10c0",
   "metadata": {},
   "outputs": [],
   "source": []
  }
 ],
 "metadata": {
  "kernelspec": {
   "display_name": "Python 3 (ipykernel)",
   "language": "python",
   "name": "python3"
  },
  "language_info": {
   "codemirror_mode": {
    "name": "ipython",
    "version": 3
   },
   "file_extension": ".py",
   "mimetype": "text/x-python",
   "name": "python",
   "nbconvert_exporter": "python",
   "pygments_lexer": "ipython3",
   "version": "3.9.13"
  }
 },
 "nbformat": 4,
 "nbformat_minor": 5
}
